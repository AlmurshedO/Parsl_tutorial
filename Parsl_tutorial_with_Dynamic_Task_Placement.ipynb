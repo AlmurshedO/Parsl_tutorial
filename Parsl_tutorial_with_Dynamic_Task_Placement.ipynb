{
  "nbformat": 4,
  "nbformat_minor": 0,
  "metadata": {
    "colab": {
      "name": "Parsl tutorial-with Dynamic Task Placement.ipynb",
      "provenance": [],
      "authorship_tag": "ABX9TyNX4hYndjOjS43deDDy0dNJ",
      "include_colab_link": true
    },
    "kernelspec": {
      "name": "python3",
      "display_name": "Python 3"
    },
    "language_info": {
      "name": "python"
    }
  },
  "cells": [
    {
      "cell_type": "markdown",
      "metadata": {
        "id": "view-in-github",
        "colab_type": "text"
      },
      "source": [
        "<a href=\"https://colab.research.google.com/github/AlmurshedO/Parsl_tutorial/blob/main/Parsl_tutorial_with_Dynamic_Task_Placement.ipynb\" target=\"_parent\"><img src=\"https://colab.research.google.com/assets/colab-badge.svg\" alt=\"Open In Colab\"/></a>"
      ]
    },
    {
      "cell_type": "markdown",
      "source": [
        "# Set up Parsl"
      ],
      "metadata": {
        "id": "0qgb2RpFHJz0"
      }
    },
    {
      "cell_type": "code",
      "execution_count": null,
      "metadata": {
        "id": "ARFlMI032K_O"
      },
      "outputs": [],
      "source": [
        "# this import is obly to clear output in this notebook\n",
        "from IPython.display import clear_output\n",
        "\n",
        "\n",
        "#installation of Parsl\n",
        "!pip install parsl\n",
        "\n",
        "# clean cell output\n",
        "clear_output()"
      ]
    },
    {
      "cell_type": "markdown",
      "source": [
        "# Import Parsl components"
      ],
      "metadata": {
        "id": "3W1dL9aAHN0V"
      }
    },
    {
      "cell_type": "code",
      "source": [
        "#parsl imports\n",
        "from parsl.providers import AdHocProvider, AWSProvider, LocalProvider \n",
        "from parsl.channels import LocalChannel\n",
        "from parsl.executors import HighThroughputExecutor\n",
        "from parsl.addresses import address_by_query\n",
        "from parsl.config import Config\n",
        "from parsl import load, clear, set_file_logger, logging\n",
        "from parsl.app.app import python_app\n",
        "\n",
        "# import time and sleep\n",
        "from time import time, sleep "
      ],
      "metadata": {
        "id": "p6KaPpsz2PXg"
      },
      "execution_count": null,
      "outputs": []
    },
    {
      "cell_type": "markdown",
      "source": [
        "# Configuring the infrastructure\n",
        "\n",
        "Here we will have two virtual workers, i.e., `executors`,  we will call it `location_1` and `location_2`. These Virtual workers usually run in the remote machine, the only difference between this and the remote machine is the link delay (or link time).\n",
        "\n",
        "`HighThroughputExecutor` is the executor class that can run in a Raspberry pi or PC. it is light wight and easy to configure."
      ],
      "metadata": {
        "id": "F89AFSLCHTHS"
      }
    },
    {
      "cell_type": "code",
      "source": [
        "\n",
        "# this is the configuration of the infrastructure\n",
        "config = Config(\n",
        "    executors=[\n",
        "        HighThroughputExecutor(\n",
        "            # label is the name of the worker and usualy is the location\n",
        "            label='location_0',\n",
        "            worker_debug=False,             \n",
        "            provider=LocalProvider(\n",
        "                #  This will run locatly if you whant to do it in remote machine use SSHChannel\n",
        "                LocalChannel()\n",
        "          )\n",
        "        ), \n",
        "        HighThroughputExecutor(\n",
        "            # label is the name of the worker and usualy is the location\n",
        "            label='location_1',\n",
        "            worker_debug=False,             \n",
        "            provider=LocalProvider(\n",
        "                #  This will run locatly if you whant to do it in remote machine use SSHChannel\n",
        "                LocalChannel()\n",
        "          )\n",
        "        )\n",
        "    ]\n",
        ")"
      ],
      "metadata": {
        "id": "1uGKvSBn2bG7"
      },
      "execution_count": null,
      "outputs": []
    },
    {
      "cell_type": "code",
      "source": [
        "# Load the configuration"
      ],
      "metadata": {
        "id": "5Raxico5Imly"
      },
      "execution_count": null,
      "outputs": []
    },
    {
      "cell_type": "code",
      "source": [
        "# this part of code need to be run once, if you want to reload the Configureation agine run `clear()` before this cell\n",
        " \n",
        "# dataflow kernel (dfk) is the engine that manages the data flowing between workers \n",
        "# workers usually, runs processes within them. workers  \n",
        "\n",
        "# clear()\n",
        "dfk = load( config )"
      ],
      "metadata": {
        "id": "0ZNh0aQ329o8"
      },
      "execution_count": null,
      "outputs": []
    },
    {
      "cell_type": "code",
      "source": [
        "# this how to define virtual service function in Parsl\n",
        "\n",
        "#test if parsl running in the `location_1`\n",
        "@python_app(executors=['location_1'])\n",
        "def test():\n",
        "  return 0\n"
      ],
      "metadata": {
        "id": "0NKGNweZ5XPY"
      },
      "execution_count": null,
      "outputs": []
    },
    {
      "cell_type": "code",
      "source": [
        "# the will deploy the test function in `location_1` \n",
        "  # it will return  AppFuture object like this one <AppFuture at 0x7fee8b865810 state=pending>\n",
        "\n",
        "app_future = test()\n",
        "app_future"
      ],
      "metadata": {
        "colab": {
          "base_uri": "https://localhost:8080/"
        },
        "id": "eCRpuM9x5nva",
        "outputId": "3b462e2f-3fa9-4e9c-83d3-4a4e8754c49d"
      },
      "execution_count": null,
      "outputs": [
        {
          "output_type": "execute_result",
          "data": {
            "text/plain": [
              "<AppFuture at 0x7f5c81ad16d0 state=pending>"
            ]
          },
          "metadata": {},
          "execution_count": 7
        }
      ]
    },
    {
      "cell_type": "code",
      "source": [
        "# to return the result form the remore machine (worker `location_1`) do the following\n",
        "print( app_future.result() )"
      ],
      "metadata": {
        "colab": {
          "base_uri": "https://localhost:8080/"
        },
        "id": "wFFAW1d76IqZ",
        "outputId": "1fd68525-5e4a-4e00-c4df-7772d61f9a7a"
      },
      "execution_count": null,
      "outputs": [
        {
          "output_type": "stream",
          "name": "stdout",
          "text": [
            "0\n"
          ]
        }
      ]
    },
    {
      "cell_type": "code",
      "source": [
        "# this funciton will not retun 0 directory it will sleep 5 second\n",
        "  # note we import sleep with in the funciton; this is because every function run as process independently from each other. Thus, each functoin need to import its modeule, e.g., sleep,   \n",
        "@python_app(executors=['location_1'])\n",
        "def sleeping(t=5):\n",
        "  from time import sleep\n",
        "  sleep( t )\n",
        "  return 0\n"
      ],
      "metadata": {
        "id": "tqZaQs6l7HVf"
      },
      "execution_count": null,
      "outputs": []
    },
    {
      "cell_type": "code",
      "source": [
        "# if we deply a function then retuned the results directoly, the system controller, which is this notebook, will be waiting for the results to be return from `location_1`\n",
        "start = time()\n",
        "app_future_sleep = sleeping( 5 )\n",
        "result = app_future_sleep.result()\n",
        "end = time()\n",
        "\n",
        "\n",
        "total_time = round(end - start, 2)\n",
        "print(f'it took this function {total_time}s to complete')"
      ],
      "metadata": {
        "colab": {
          "base_uri": "https://localhost:8080/"
        },
        "id": "Wj8nnxu_8poW",
        "outputId": "fd284f2c-de0c-4c14-dcfe-1a1b08800751"
      },
      "execution_count": null,
      "outputs": [
        {
          "output_type": "stream",
          "name": "stdout",
          "text": [
            "it took this function 5.03s to complete\n"
          ]
        }
      ]
    },
    {
      "cell_type": "code",
      "source": [
        "# to avoid freezing the controller resources for a single function you can check whether or use `app_future_sleep done`\n",
        "# if we deply a function then retuned the results directoly, the system controller, which is this notebook, will be waiting for the results to be return from `location_1`\n",
        "start = time()\n",
        "# deply sleeping function to worker `location_1`\n",
        "app_future_sleep = sleeping( 5 )\n",
        "\n",
        "# done check if the remore machine `location_1`\n",
        "done =  app_future_sleep.done()\n",
        "\n",
        "# this check the every half a second if the function done and the result is ready to be returned  \n",
        "while not done:\n",
        "  curr_time = time()\n",
        "  curr_time_from_start = round(curr_time - start, 2)\n",
        "  print(f'current time from start is {curr_time_from_start}')\n",
        "\n",
        "  # sleep for half second to avoid spaning the CPU\n",
        "  # update done variable\n",
        "  done =  app_future_sleep.done()\n",
        "\n",
        "result = app_future_sleep.result()\n",
        "end = time()\n",
        "total_time = round(end - start, 2)\n",
        "print(f'it took this function {total_time}s to complete')"
      ],
      "metadata": {
        "id": "KURqetMD-oWm"
      },
      "execution_count": null,
      "outputs": []
    },
    {
      "cell_type": "code",
      "source": [
        "# t is the sleeping time in a second \n",
        "t = 2\n",
        "\n",
        "start = time()\n",
        "app_future_sleep = sleeping( t )\n",
        "#  here we want to what to calculate the time \n",
        "result = app_future_sleep.result()\n",
        "end = time()\n",
        "total_time = end - start\n",
        "\n",
        "# this to convert second to millisecond \n",
        "millisecond = 1 * 1000\n",
        "\n",
        "# substract the sleeping time from total_time to know the overhead in this virtual machine in this notebook in millisecond \n",
        "overhead_time_to_deploy_vFunction = (total_time - t) * millisecond\n",
        "overhead_time_to_deploy_vFunction = round( overhead_time_to_deploy_vFunction, 2 )\n",
        "print(f'overhead of parsl deploy a function in this notebook is {overhead_time_to_deploy_vFunction} millisecond')\n"
      ],
      "metadata": {
        "colab": {
          "base_uri": "https://localhost:8080/"
        },
        "id": "CFKASEguCLtL",
        "outputId": "1eaec487-565b-42db-a276-8a30e2bd8427"
      },
      "execution_count": null,
      "outputs": [
        {
          "output_type": "stream",
          "name": "stdout",
          "text": [
            "overhead of parsl deploy a function in this notebook is 20.24 millisecond\n"
          ]
        }
      ]
    },
    {
      "cell_type": "code",
      "source": [
        "# to make sure that the overhead is the same we deply a function which does not do think\n",
        "\n",
        "# here we will do it in use virtual worker `location_0`\n",
        "@python_app(executors=['location_0'])\n",
        "def do_not_thing():\n",
        "  pass\n",
        "\n",
        "do_not_thing()\n"
      ],
      "metadata": {
        "colab": {
          "base_uri": "https://localhost:8080/"
        },
        "id": "wirFbZwDFpot",
        "outputId": "8709b848-40fd-40df-a774-0782484b2925"
      },
      "execution_count": null,
      "outputs": [
        {
          "output_type": "execute_result",
          "data": {
            "text/plain": [
              "<AppFuture at 0x7f5c81572410 state=pending>"
            ]
          },
          "metadata": {},
          "execution_count": 13
        }
      ]
    },
    {
      "cell_type": "code",
      "source": [
        "%%timeit\n",
        "\n",
        "# %%timeit in the beginning of the cell will run the cell multible time and return the average time of the multible runs\n",
        "\n",
        "do_not_thing().result()\n"
      ],
      "metadata": {
        "colab": {
          "base_uri": "https://localhost:8080/"
        },
        "id": "hvopECQbGOCR",
        "outputId": "6e6d926d-3605-41a5-c4d5-651e60154adf"
      },
      "execution_count": null,
      "outputs": [
        {
          "output_type": "stream",
          "name": "stdout",
          "text": [
            "100 loops, best of 5: 21.2 ms per loop\n"
          ]
        }
      ]
    },
    {
      "cell_type": "markdown",
      "source": [
        "# Dynamicly choose locations\n",
        "Here we pass the python function as values, this is a concept in functional programming. This means that `deply_function_to_location(function, location)` receive any python function, i.e.,  `function`, and string if the name of the `location` the we have defined as label in the configuration section (which is the python executor name that we have gave to the location). "
      ],
      "metadata": {
        "id": "jKaB7MkoKZVc"
      }
    },
    {
      "cell_type": "code",
      "source": [
        "# to dynamicly choose the location\n",
        "\n",
        "def deply_function_to_location(location, function, *args, **kwargs):\n",
        "  # how to use *args, **kwargs is https://realpython.com/python-kwargs-and-args/\n",
        "    # arges is the inputs of the function that does not has defult values\n",
        "    # kwargs is the inputs that had defult value or passed by name for example def add(x, y=1)\n",
        "      # x is arges and y is kwargs\n",
        "\n",
        "  # python_app returns the same fucntion but one that runs in specific remote machine, e.g., `location_1`\n",
        "  placing_function_to_location = python_app(function, executors=[ location ])\n",
        "  return placing_function_to_location(*args, **kwargs)\n"
      ],
      "metadata": {
        "id": "xuKd70DRKYjG"
      },
      "execution_count": null,
      "outputs": []
    },
    {
      "cell_type": "code",
      "source": [
        "\n",
        "# define normal function\n",
        "def add(x, y):\n",
        "  return x + y\n",
        "\n",
        "# input of the add function\n",
        "x = 1\n",
        "y = 2\n",
        "\n",
        "# the return of deply_function_to_location() is Parsl AppFuture that the result of it is the output of the remote machine i.e., `location_1` executing `add` with x and y inputs  \n",
        "future = deply_function_to_location('location_1', add, x, y)\n",
        "future.result()"
      ],
      "metadata": {
        "colab": {
          "base_uri": "https://localhost:8080/"
        },
        "id": "oxWmRUk0JY9Y",
        "outputId": "27dcfc07-c2ae-4e6f-f86e-82fbbb493a75"
      },
      "execution_count": null,
      "outputs": [
        {
          "output_type": "execute_result",
          "data": {
            "text/plain": [
              "3"
            ]
          },
          "metadata": {},
          "execution_count": 30
        }
      ]
    },
    {
      "cell_type": "markdown",
      "source": [
        "# Create SFC Placement  with Round-Robin (Without CSP)\n",
        "\n",
        "The SFC example is:\n",
        "   \n",
        "\n",
        "         adding -->  doubling --> tripling --> doubling --> tripling\n",
        "\n",
        "The AppFuture of each function will be pass to the next function, this is known as Futures pipelining or Promises pipelining for more details vist this link: https://en.wikipedia.org/wiki/Futures_and_promises\n",
        "\n",
        "             "
      ],
      "metadata": {
        "id": "AlvhT3yKsd-L"
      }
    },
    {
      "cell_type": "code",
      "source": [
        "# create functions\n",
        "\n",
        "def adding(X):\n",
        "  result = 0\n",
        "  for x in X:\n",
        "    result = result + x\n",
        "  return result\n",
        "\n",
        "def doubling(x):\n",
        "  return x*2\n",
        "\n",
        "def tripling(x):\n",
        "  return x*3\n",
        "\n",
        "# SFC pipelining: adding -->  doubling --> tripling --> doubling --> tripling\n",
        "SFC = [adding, doubling, tripling, doubling, tripling]\n",
        "# the SFC input\n",
        "curr_input = [2, -1]\n",
        "\n",
        "# `number_location` holds the number of the virtual workers in the configuration, will be used to not exceeds the number\n",
        "number_location = 2\n",
        "curr_location_index = 0\n",
        "for curr_function in SFC:\n",
        "  # curr_location is hold the label of the parsl executor, i.e., location, \n",
        "  curr_location = f'location_{ curr_location_index }'\n",
        "  curr_input = deply_function_to_location(curr_location, curr_function, curr_input)\n",
        "  # prtining the current placemnt \n",
        "  print( f'Function {curr_function} placed in location {curr_location}' )\n",
        "  # `%` operation is Modular arithmetic returns the remainder or signed remainder of a division\n",
        "    # numbers \"wrap around\" when reaching a certain value which is in this case `number_location - 1`\n",
        "    # for more information about Modular arithmetic vist:\n",
        "      # https://en.wikipedia.org/wiki/Modular_arithmetic \n",
        "      # https://en.wikipedia.org/wiki/Modulo_operation\n",
        "  curr_location_index = (curr_location_index + 1) % number_location\n",
        "  \n",
        "\n",
        "\n",
        "\n",
        "last_function_output = curr_input\n",
        "\n",
        "print(f'SFC result is {last_function_output.result()}')\n",
        "  \n",
        "    \n",
        "\n",
        "\n"
      ],
      "metadata": {
        "colab": {
          "base_uri": "https://localhost:8080/"
        },
        "id": "CbAqC1J0sjWk",
        "outputId": "214af85d-17f2-4a86-b1c8-0ccf5fd44f49"
      },
      "execution_count": null,
      "outputs": [
        {
          "output_type": "stream",
          "name": "stdout",
          "text": [
            "Function <function adding at 0x7f5c783a4d40> placed in location location_0\n",
            "Function <function doubling at 0x7f5c783a49e0> placed in location location_1\n",
            "Function <function tripling at 0x7f5c783a4320> placed in location location_0\n",
            "Function <function doubling at 0x7f5c783a49e0> placed in location location_1\n",
            "Function <function tripling at 0x7f5c783a4320> placed in location location_0\n",
            "SFC result is 36\n"
          ]
        }
      ]
    }
  ]
}